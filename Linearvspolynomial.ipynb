{
 "cells": [
  {
   "cell_type": "code",
   "execution_count": 4,
   "metadata": {},
   "outputs": [
    {
     "data": {
      "image/png": "[encoded data removed]",
      "text/plain": [
       "<matplotlib.figure.Figure at 0x1084c13c8>"
      ]
     },
     "metadata": {},
     "output_type": "display_data"
    },
    {
     "name": "stdout",
     "output_type": "stream",
     "text": [
      "[[  0.00000000e+00  -6.76203704e-04   4.99340278e-05  -1.05567130e-06\n",
      "    8.93229167e-09]]\n",
      "[ 0.00046111]\n"
     ]
    },
    {
     "data": {
      "text/plain": [
       "0.99969107807180135"
      ]
     },
     "execution_count": 4,
     "metadata": {},
     "output_type": "execute_result"
    }
   ],
   "source": [
    "import numpy as np\n",
    "import matplotlib.pyplot as plt\n",
    "import pandas as pd\n",
    "d=pd.read_csv('data.csv')\n",
    "\n",
    "X=d['Temperature'].values.reshape(-1,1)\n",
    "y=d['Pressure'].values.reshape(-1,1)\n",
    "\n",
    "from sklearn.linear_model import LinearRegression\n",
    "from sklearn.preprocessing import PolynomialFeatures\n",
    "\n",
    "poly=PolynomialFeatures(degree=4)   # try different degrees\n",
    "X_poly=poly.fit_transform(X)\n",
    "poly.fit(X_poly,y)\n",
    "\n",
    "\n",
    "reg=LinearRegression()\n",
    "reg.fit(X_poly,y)\n",
    "\n",
    "plt.scatter(X,y,color='blue')\n",
    "plt.plot(X,reg.predict(poly.fit_transform(X)),color='red')\n",
    "plt.show()\n",
    "\n",
    "print(reg.coef_)\n",
    "print(reg.intercept_)\n",
    "reg.score(X_poly,y)"
   ]
  },
  {
   "cell_type": "code",
   "execution_count": 26,
   "metadata": {},
   "outputs": [
    {
     "data": {
      "image/png": "[encoded data removed]",
      "text/plain": [
       "<matplotlib.figure.Figure at 0x119d6c9b0>"
      ]
     },
     "metadata": {},
     "output_type": "display_data"
    },
    {
     "name": "stdout",
     "output_type": "stream",
     "text": [
      "[[ 0.002342]]\n",
      "[-0.05086667]\n"
     ]
    },
    {
     "data": {
      "text/plain": [
       "0.69034997260398101"
      ]
     },
     "execution_count": 26,
     "metadata": {},
     "output_type": "execute_result"
    }
   ],
   "source": [
    "import numpy as np\n",
    "import matplotlib.pyplot as plt\n",
    "import pandas as pd\n",
    "d=pd.read_csv('data.csv')\n",
    "\n",
    "X=d['Temperature'].values.reshape(-1,1)\n",
    "y=d['Pressure'].values.reshape(-1,1)\n",
    "\n",
    "from sklearn.linear_model import LinearRegression\n",
    "\n",
    "reg=LinearRegression()\n",
    "reg.fit(X,y)\n",
    "\n",
    "plt.scatter(X,y,color='blue')\n",
    "plt.plot(X,reg.predict(X),color='red')\n",
    "plt.show()\n",
    "\n",
    "print(reg.coef_)\n",
    "print(reg.intercept_)\n",
    "reg.score(X,y)"
   ]
  },
  {
   "cell_type": "code",
   "execution_count": null,
   "metadata": {
    "collapsed": true
   },
   "outputs": [],
   "source": []
  }
 ],
 "metadata": {
  "kernelspec": {
   "display_name": "Python 3",
   "language": "python",
   "name": "python3"
  },
  "language_info": {
   "codemirror_mode": {
    "name": "ipython",
    "version": 3
   },
   "file_extension": ".py",
   "mimetype": "text/x-python",
   "name": "python",
   "nbconvert_exporter": "python",
   "pygments_lexer": "ipython3",
   "version": "3.6.3"
  }
 },
 "nbformat": 4,
 "nbformat_minor": 2
}
